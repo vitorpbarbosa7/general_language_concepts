{
 "cells": [
  {
   "cell_type": "code",
   "execution_count": 1,
   "id": "2ce27cb4",
   "metadata": {
    "ExecuteTime": {
     "end_time": "2022-02-28T13:36:40.200264Z",
     "start_time": "2022-02-28T13:36:40.188911Z"
    }
   },
   "outputs": [],
   "source": [
    "class HtmlElement:\n",
    "    indent_size = 2\n",
    "\n",
    "    def __init__(self, name=\"\", text=\"\"):\n",
    "        self.name = name\n",
    "        self.text = text\n",
    "        self.elements = []\n",
    "\n",
    "    def __str(self, indent):\n",
    "        lines = []\n",
    "        i = ' ' * (indent * self.indent_size)\n",
    "        lines.append(f'{i}<{self.name}>')\n",
    "\n",
    "        if self.text:\n",
    "            i1 = ' ' * ((indent + 1) * self.indent_size)\n",
    "            lines.append(f'{i1}{self.text}')\n",
    "\n",
    "        for e in self.elements:\n",
    "            lines.append(e.__str(indent + 1))\n",
    "\n",
    "        lines.append(f'{i}</{self.name}>')\n",
    "        return '\\n'.join(lines)\n",
    "\n",
    "    def __str__(self):\n",
    "        return self.__str(0)\n",
    "\n",
    "    @staticmethod\n",
    "    def create(name):\n",
    "        return HtmlBuilder(name)\n",
    "\n",
    "\n",
    "class HtmlBuilder:\n",
    "    __root = HtmlElement()\n",
    "\n",
    "    def __init__(self, root_name):\n",
    "        self.root_name = root_name\n",
    "        self.__root.name = root_name\n",
    "\n",
    "    # not fluent\n",
    "    def add_child(self, child_name, child_text):\n",
    "        self.__root.elements.append(\n",
    "            HtmlElement(child_name, child_text)\n",
    "        )\n",
    "\n",
    "    # fluent\n",
    "    def add_child_fluent(self, child_name, child_text):\n",
    "        self.__root.elements.append(\n",
    "            HtmlElement(child_name, child_text)\n",
    "        )\n",
    "        return self\n",
    "\n",
    "    def clear(self):\n",
    "        self.__root = HtmlElement(name=self.root_name)\n",
    "\n",
    "    def __str__(self):\n",
    "        return str(self.__root)"
   ]
  },
  {
   "cell_type": "code",
   "execution_count": 2,
   "id": "d0051b99",
   "metadata": {
    "ExecuteTime": {
     "end_time": "2022-02-28T13:36:46.679696Z",
     "start_time": "2022-02-28T13:36:46.676451Z"
    }
   },
   "outputs": [
    {
     "name": "stdout",
     "output_type": "stream",
     "text": [
      "<p>hello</p>\n"
     ]
    }
   ],
   "source": [
    "# if you want to build a simple HTML paragraph using a list\n",
    "hello = 'hello'\n",
    "parts = ['<p>', hello, '</p>']\n",
    "print(''.join(parts))"
   ]
  },
  {
   "cell_type": "code",
   "execution_count": 3,
   "id": "9206a37b",
   "metadata": {
    "ExecuteTime": {
     "end_time": "2022-02-28T13:36:47.520996Z",
     "start_time": "2022-02-28T13:36:47.514697Z"
    }
   },
   "outputs": [
    {
     "name": "stdout",
     "output_type": "stream",
     "text": [
      "<ul>\n",
      "  <li>hello</li>\n",
      "  <li>world</li>\n",
      "</ul>\n"
     ]
    }
   ],
   "source": [
    "# now I want an HTML list with 2 words in it\n",
    "words = ['hello', 'world']\n",
    "parts = ['<ul>']\n",
    "for w in words:\n",
    "    parts.append(f'  <li>{w}</li>')\n",
    "parts.append('</ul>')\n",
    "print('\\n'.join(parts))"
   ]
  },
  {
   "cell_type": "code",
   "execution_count": null,
   "id": "9293473d",
   "metadata": {},
   "outputs": [],
   "source": [
    "# ordinary non-fluent builder\n",
    "# builder = HtmlBuilder('ul')\n",
    "builder = HtmlElement.create('ul')\n",
    "builder.add_child('li', 'hello')\n",
    "builder.add_child('li', 'world')\n",
    "print('Ordinary builder:')\n",
    "print(builder)"
   ]
  },
  {
   "cell_type": "markdown",
   "id": "6bb37ab4",
   "metadata": {},
   "source": [
    "# Single class test"
   ]
  },
  {
   "cell_type": "code",
   "execution_count": 4,
   "id": "3b774eb8",
   "metadata": {
    "ExecuteTime": {
     "end_time": "2022-02-28T13:49:19.249239Z",
     "start_time": "2022-02-28T13:49:19.242258Z"
    }
   },
   "outputs": [],
   "source": [
    "class HtmlElement:\n",
    "    ident_size = 2\n",
    "\n",
    "    def __init__(self, name = '', text = ''):\n",
    "        self.name = name\n",
    "        self.text = text\n",
    "        # elementos sao uma lista, por isso depois da para apendar ao elemento raiz, novos elementos\n",
    "        self.elements = []\n",
    "\n",
    "    # Representacao\n",
    "    def __str(self, indent):\n",
    "        # initial step\n",
    "        # html syntax elements per se\n",
    "        lines = []\n",
    "        i = ' ' * (indent * self.indent_size)\n",
    "        lines.append(f'{i}<{self.name}>')\n",
    "\n",
    "        # text between html syntax elements\n",
    "        if self.text:\n",
    "            i1 = ' ' * ((indent + 1) * self.indent_size)\n",
    "            lines.append(f'{i1}{self.text}')\n",
    "\n",
    "        for e in self.elements:\n",
    "            lines.append(e.__str(indent + 1))\n",
    "\n",
    "        lines.append(f'{i}</{self.name}>')\n",
    "        return '\\n'.join(lines)\n",
    "    \n",
    "    def __str__(self):\n",
    "        return self.__str(0)\n",
    "\n",
    "    def create(name):\n",
    "        return HtmlBuilder(name)"
   ]
  },
  {
   "cell_type": "code",
   "execution_count": 5,
   "id": "0aa8ab3d",
   "metadata": {
    "ExecuteTime": {
     "end_time": "2022-02-28T13:51:14.407835Z",
     "start_time": "2022-02-28T13:51:14.404003Z"
    }
   },
   "outputs": [],
   "source": [
    "element = HtmlElement(name = 'p', text = 'hello')"
   ]
  },
  {
   "cell_type": "markdown",
   "id": "05e7284f",
   "metadata": {},
   "source": [
    "# merdaa"
   ]
  },
  {
   "cell_type": "code",
   "execution_count": 14,
   "id": "aa9d26bb",
   "metadata": {
    "ExecuteTime": {
     "end_time": "2022-02-28T15:19:56.287142Z",
     "start_time": "2022-02-28T15:19:56.279474Z"
    }
   },
   "outputs": [],
   "source": [
    "class PersonBuilder:\n",
    "    def __init__(self, pessoa=None):\n",
    "        if pessoa is None:\n",
    "            self.pessoa = Pessoa()\n",
    "        else:\n",
    "            self.pessoa = pessoa\n",
    "\n",
    "    # How can we make the client use the PersonJobBuilder Class?\n",
    "    # property of PersonBuilder calls Class PersonJobBuilder\n",
    "    # to get the work (works)\n",
    "    @property\n",
    "    def works(self):\n",
    "        # aqui na real ta entrando o pessoa\n",
    "        # e a inicializacao do PersonJobBuilder eh o PersonBuilder\n",
    "        # e a inicializacao do PersonBuilder chama o pessoa\n",
    "        return PersonJobBuilder(self.pessoa)\n",
    "    \n",
    "    @property\n",
    "    def lives(self):\n",
    "        return PersonAddressBuilder(self.pessoa)\n",
    "\n",
    "    # retorno a Pessoa, que foi tendo seus atributos alterados\n",
    "    def build(self):\n",
    "        return self.pessoa\n"
   ]
  },
  {
   "cell_type": "code",
   "execution_count": null,
   "id": "490ae6db",
   "metadata": {},
   "outputs": [],
   "source": [
    "PersonBuilder()"
   ]
  }
 ],
 "metadata": {
  "kernelspec": {
   "display_name": "Python 3",
   "language": "python",
   "name": "python3"
  },
  "language_info": {
   "codemirror_mode": {
    "name": "ipython",
    "version": 3
   },
   "file_extension": ".py",
   "mimetype": "text/x-python",
   "name": "python",
   "nbconvert_exporter": "python",
   "pygments_lexer": "ipython3",
   "version": "3.7.6"
  },
  "toc": {
   "base_numbering": 1,
   "nav_menu": {},
   "number_sections": true,
   "sideBar": true,
   "skip_h1_title": false,
   "title_cell": "Table of Contents",
   "title_sidebar": "Contents",
   "toc_cell": false,
   "toc_position": {},
   "toc_section_display": true,
   "toc_window_display": false
  },
  "varInspector": {
   "cols": {
    "lenName": 16,
    "lenType": 16,
    "lenVar": 40
   },
   "kernels_config": {
    "python": {
     "delete_cmd_postfix": "",
     "delete_cmd_prefix": "del ",
     "library": "var_list.py",
     "varRefreshCmd": "print(var_dic_list())"
    },
    "r": {
     "delete_cmd_postfix": ") ",
     "delete_cmd_prefix": "rm(",
     "library": "var_list.r",
     "varRefreshCmd": "cat(var_dic_list()) "
    }
   },
   "types_to_exclude": [
    "module",
    "function",
    "builtin_function_or_method",
    "instance",
    "_Feature"
   ],
   "window_display": false
  }
 },
 "nbformat": 4,
 "nbformat_minor": 5
}
