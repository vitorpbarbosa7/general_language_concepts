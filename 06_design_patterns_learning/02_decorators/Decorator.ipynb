{
 "cells": [
  {
   "cell_type": "markdown",
   "id": "da49251b",
   "metadata": {},
   "source": [
    "https://towardsdatascience.com/3-great-design-patterns-for-data-science-workflows-d3bf162d74e6m"
   ]
  },
  {
   "cell_type": "markdown",
   "id": "0570884a",
   "metadata": {},
   "source": [
    "### Essentially, what you’re doing is capturing some state before your function runs, then capturing some state after it’s done. "
   ]
  },
  {
   "cell_type": "code",
   "execution_count": 1,
   "id": "5991858b",
   "metadata": {
    "ExecuteTime": {
     "end_time": "2022-02-06T14:49:49.313729Z",
     "start_time": "2022-02-06T14:49:49.310358Z"
    }
   },
   "outputs": [],
   "source": [
    "def f():\n",
    "    pd.set_option('display.max_columns', None)\n",
    "    pd.set_option('display.max_rows', None)\n",
    "    \n",
    "def nf():\n",
    "    pd.set_option('display.max_columns', None)\n",
    "    pd.set_option('display.max_rows', 4)"
   ]
  },
  {
   "cell_type": "code",
   "execution_count": 2,
   "id": "dd69fc43",
   "metadata": {
    "ExecuteTime": {
     "end_time": "2022-02-06T14:49:49.999785Z",
     "start_time": "2022-02-06T14:49:49.993444Z"
    }
   },
   "outputs": [],
   "source": [
    "def full(func):\n",
    "    def wrapper(*args, **kwargs):\n",
    "        \n",
    "        f()\n",
    "        val = func(*args,**kwargs)\n",
    "        nf()\n",
    "        return val\n",
    "    return wrapper"
   ]
  },
  {
   "cell_type": "code",
   "execution_count": 3,
   "id": "98fa7d30",
   "metadata": {
    "ExecuteTime": {
     "end_time": "2022-02-06T14:49:50.852212Z",
     "start_time": "2022-02-06T14:49:50.490643Z"
    }
   },
   "outputs": [],
   "source": [
    "import pandas as pd\n",
    "\n",
    "df = pd.DataFrame({'a':range(1,100)})"
   ]
  },
  {
   "cell_type": "code",
   "execution_count": 5,
   "id": "b2c5758b",
   "metadata": {
    "ExecuteTime": {
     "end_time": "2022-02-06T14:49:57.635021Z",
     "start_time": "2022-02-06T14:49:57.631976Z"
    }
   },
   "outputs": [],
   "source": [
    "from time import time"
   ]
  },
  {
   "cell_type": "code",
   "execution_count": 6,
   "id": "f4363e3f",
   "metadata": {
    "ExecuteTime": {
     "end_time": "2022-02-06T14:49:58.016890Z",
     "start_time": "2022-02-06T14:49:58.001749Z"
    }
   },
   "outputs": [],
   "source": [
    "def log_time(func):\n",
    "    '''Logs the time it took for func to execute'''\n",
    "    def wrapper(*args, **kwargs):\n",
    "        \n",
    "        start = time()\n",
    "        val = func(*args, **kwargs)\n",
    "        end = time()\n",
    "        \n",
    "        duration = end - start\n",
    "        print(f'{func.__name__} took {duration} seconds to run')\n",
    "        return val\n",
    "    return wrapper"
   ]
  },
  {
   "cell_type": "code",
   "execution_count": 7,
   "id": "f2a80ce1",
   "metadata": {
    "ExecuteTime": {
     "end_time": "2022-02-06T14:50:13.117865Z",
     "start_time": "2022-02-06T14:50:13.114249Z"
    }
   },
   "outputs": [],
   "source": [
    "# Uso\n",
    "@log_time\n",
    "def generate_list(init, end):\n",
    "    lista = list(range(init, end))\n",
    "    return lista"
   ]
  },
  {
   "cell_type": "code",
   "execution_count": 8,
   "id": "0737816e",
   "metadata": {
    "ExecuteTime": {
     "end_time": "2022-02-06T14:50:13.415212Z",
     "start_time": "2022-02-06T14:50:13.406304Z"
    }
   },
   "outputs": [
    {
     "name": "stdout",
     "output_type": "stream",
     "text": [
      "generate_list took 1.049041748046875e-05 seconds to run\n"
     ]
    }
   ],
   "source": [
    "# Executando explicitamente pelo terminal, por exemplo, com esse dunder\n",
    "if __name__ == '__main__':\n",
    "    lista = generate_list(10,30)"
   ]
  },
  {
   "cell_type": "code",
   "execution_count": 9,
   "id": "27dea360",
   "metadata": {
    "ExecuteTime": {
     "end_time": "2022-02-06T14:50:14.933238Z",
     "start_time": "2022-02-06T14:50:14.915376Z"
    }
   },
   "outputs": [
    {
     "data": {
      "text/plain": [
       "[10,\n",
       " 11,\n",
       " 12,\n",
       " 13,\n",
       " 14,\n",
       " 15,\n",
       " 16,\n",
       " 17,\n",
       " 18,\n",
       " 19,\n",
       " 20,\n",
       " 21,\n",
       " 22,\n",
       " 23,\n",
       " 24,\n",
       " 25,\n",
       " 26,\n",
       " 27,\n",
       " 28,\n",
       " 29]"
      ]
     },
     "execution_count": 9,
     "metadata": {},
     "output_type": "execute_result"
    }
   ],
   "source": [
    "lista"
   ]
  },
  {
   "cell_type": "markdown",
   "id": "8eb3124f",
   "metadata": {},
   "source": [
    "### Another example from \n",
    "https://realpython.com/primer-on-python-decorators/#simple-decorators"
   ]
  },
  {
   "cell_type": "code",
   "execution_count": 10,
   "id": "53cd2185",
   "metadata": {
    "ExecuteTime": {
     "end_time": "2022-02-06T14:50:17.061869Z",
     "start_time": "2022-02-06T14:50:17.058391Z"
    }
   },
   "outputs": [],
   "source": [
    "def my_decorator(func):\n",
    "    def wrapper():\n",
    "        print(\"Something is happening before the function is called.\")\n",
    "        func()\n",
    "        print(\"Something is happening after the function is called.\")\n",
    "    return wrapper"
   ]
  },
  {
   "cell_type": "code",
   "execution_count": 11,
   "id": "f0aa37e2",
   "metadata": {
    "ExecuteTime": {
     "end_time": "2022-02-06T14:50:17.305785Z",
     "start_time": "2022-02-06T14:50:17.298695Z"
    }
   },
   "outputs": [],
   "source": [
    "@my_decorator\n",
    "def say_whee():\n",
    "    print(\"Whee!\")"
   ]
  },
  {
   "cell_type": "code",
   "execution_count": 12,
   "id": "d5387e48",
   "metadata": {
    "ExecuteTime": {
     "end_time": "2022-02-06T14:50:17.616473Z",
     "start_time": "2022-02-06T14:50:17.605897Z"
    }
   },
   "outputs": [
    {
     "name": "stdout",
     "output_type": "stream",
     "text": [
      "Something is happening before the function is called.\n",
      "Whee!\n",
      "Something is happening after the function is called.\n"
     ]
    }
   ],
   "source": [
    "say_whee()"
   ]
  },
  {
   "cell_type": "markdown",
   "id": "825e37ed",
   "metadata": {},
   "source": [
    "### Outro exemplo"
   ]
  },
  {
   "cell_type": "code",
   "execution_count": 13,
   "id": "7848ceda",
   "metadata": {
    "ExecuteTime": {
     "end_time": "2022-02-06T14:50:19.712022Z",
     "start_time": "2022-02-06T14:50:19.694404Z"
    }
   },
   "outputs": [],
   "source": [
    "from datetime import datetime\n",
    "\n",
    "def not_during_the_night(func):\n",
    "    def wrapper():\n",
    "        if 7 <= datetime.now().hour < 22:\n",
    "            func()\n",
    "        else:\n",
    "            pass  # Hush, the neighbors are asleep\n",
    "    return wrapper\n",
    "\n",
    "def say_whee():\n",
    "    print(\"Whee!\")"
   ]
  }
 ],
 "metadata": {
  "kernelspec": {
   "display_name": "Python 3",
   "language": "python",
   "name": "python3"
  },
  "language_info": {
   "codemirror_mode": {
    "name": "ipython",
    "version": 3
   },
   "file_extension": ".py",
   "mimetype": "text/x-python",
   "name": "python",
   "nbconvert_exporter": "python",
   "pygments_lexer": "ipython3",
   "version": "3.7.6"
  },
  "toc": {
   "base_numbering": 1,
   "nav_menu": {},
   "number_sections": true,
   "sideBar": true,
   "skip_h1_title": false,
   "title_cell": "Table of Contents",
   "title_sidebar": "Contents",
   "toc_cell": false,
   "toc_position": {},
   "toc_section_display": true,
   "toc_window_display": false
  },
  "varInspector": {
   "cols": {
    "lenName": 16,
    "lenType": 16,
    "lenVar": 40
   },
   "kernels_config": {
    "python": {
     "delete_cmd_postfix": "",
     "delete_cmd_prefix": "del ",
     "library": "var_list.py",
     "varRefreshCmd": "print(var_dic_list())"
    },
    "r": {
     "delete_cmd_postfix": ") ",
     "delete_cmd_prefix": "rm(",
     "library": "var_list.r",
     "varRefreshCmd": "cat(var_dic_list()) "
    }
   },
   "types_to_exclude": [
    "module",
    "function",
    "builtin_function_or_method",
    "instance",
    "_Feature"
   ],
   "window_display": false
  }
 },
 "nbformat": 4,
 "nbformat_minor": 5
}
